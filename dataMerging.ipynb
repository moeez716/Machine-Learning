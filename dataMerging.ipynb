{
 "cells": [
  {
   "cell_type": "code",
   "execution_count": 1,
   "id": "7442e318",
   "metadata": {},
   "outputs": [
    {
     "name": "stdout",
     "output_type": "stream",
     "text": [
      "   id     name  age       city occupation\n",
      "0   1    Alice   25     lahore   Engineer\n",
      "1   2      Bob   30    karachi     Doctor\n",
      "2   3  Charlie   35  islamabad     Artist\n",
      "3   4    David   40     quetta    Teacher\n"
     ]
    }
   ],
   "source": [
    "# Data Merge\n",
    "import pandas as pd\n",
    "data1={\n",
    "    'id': [1, 2, 3, 4],\n",
    "    'name': ['Alice', 'Bob', 'Charlie', 'David'],\n",
    "    'age': [25, 30, 35, 40]\n",
    "}\n",
    "data2={\n",
    "    'id': [1, 2, 3, 4],\n",
    "    'city': ['lahore', 'karachi', 'islamabad', 'quetta'],\n",
    "    'occupation': ['Engineer', 'Doctor', 'Artist', 'Teacher']\n",
    "}\n",
    "df1 = pd.DataFrame(data1)\n",
    "df2 = pd.DataFrame(data2)\n",
    "# Merging the two DataFrames on 'id'\n",
    "merged_df = pd.merge(df1, df2, on='id',how='inner')\n",
    "# Displaying the merged DataFrame\n",
    "print(merged_df)\n"
   ]
  }
 ],
 "metadata": {
  "kernelspec": {
   "display_name": "base",
   "language": "python",
   "name": "python3"
  },
  "language_info": {
   "codemirror_mode": {
    "name": "ipython",
    "version": 3
   },
   "file_extension": ".py",
   "mimetype": "text/x-python",
   "name": "python",
   "nbconvert_exporter": "python",
   "pygments_lexer": "ipython3",
   "version": "3.11.13"
  }
 },
 "nbformat": 4,
 "nbformat_minor": 5
}
